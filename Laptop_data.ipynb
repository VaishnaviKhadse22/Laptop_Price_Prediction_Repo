{
 "cells": [
  {
   "cell_type": "code",
   "execution_count": 1,
   "id": "d43d0c91-2111-4417-89d5-7ee8a2b5c1d9",
   "metadata": {},
   "outputs": [],
   "source": [
    "import numpy as np\n",
    "import pandas as pd\n",
    "import matplotlib.pyplot as plt\n",
    "import seaborn as sns\n",
    "import scipy as sp"
   ]
  },
  {
   "cell_type": "code",
   "execution_count": 2,
   "id": "34068cd4-ee7d-4f26-b8e3-89b3bc11bbb3",
   "metadata": {},
   "outputs": [],
   "source": [
    "df=pd.read_csv(\"Laptops.csv\")"
   ]
  },
  {
   "cell_type": "code",
   "execution_count": 3,
   "id": "382c822b-d5a2-440d-aaca-f19806a30227",
   "metadata": {},
   "outputs": [
    {
     "data": {
      "text/plain": [
       "(837, 10)"
      ]
     },
     "execution_count": 3,
     "metadata": {},
     "output_type": "execute_result"
    }
   ],
   "source": [
    "df.shape"
   ]
  },
  {
   "cell_type": "code",
   "execution_count": 4,
   "id": "1b04e343-eee5-4bc5-8769-03190b8719ae",
   "metadata": {},
   "outputs": [
    {
     "data": {
      "text/html": [
       "<div>\n",
       "<style scoped>\n",
       "    .dataframe tbody tr th:only-of-type {\n",
       "        vertical-align: middle;\n",
       "    }\n",
       "\n",
       "    .dataframe tbody tr th {\n",
       "        vertical-align: top;\n",
       "    }\n",
       "\n",
       "    .dataframe thead th {\n",
       "        text-align: right;\n",
       "    }\n",
       "</style>\n",
       "<table border=\"1\" class=\"dataframe\">\n",
       "  <thead>\n",
       "    <tr style=\"text-align: right;\">\n",
       "      <th></th>\n",
       "      <th>Unnamed: 0</th>\n",
       "      <th>Brand</th>\n",
       "      <th>Model Name</th>\n",
       "      <th>Processor</th>\n",
       "      <th>Operating System</th>\n",
       "      <th>Storage</th>\n",
       "      <th>RAM</th>\n",
       "      <th>Screen Size</th>\n",
       "      <th>Touch_Screen</th>\n",
       "      <th>Price</th>\n",
       "    </tr>\n",
       "  </thead>\n",
       "  <tbody>\n",
       "    <tr>\n",
       "      <th>0</th>\n",
       "      <td>0</td>\n",
       "      <td>HP</td>\n",
       "      <td>15s-fq5007TU</td>\n",
       "      <td>Core i3</td>\n",
       "      <td>Windows 11 Home</td>\n",
       "      <td>512 GB</td>\n",
       "      <td>8 GB</td>\n",
       "      <td>39.62 cm (15.6 Inch)</td>\n",
       "      <td>No</td>\n",
       "      <td>₹38,990</td>\n",
       "    </tr>\n",
       "    <tr>\n",
       "      <th>1</th>\n",
       "      <td>1</td>\n",
       "      <td>HP</td>\n",
       "      <td>15s-fy5003TU</td>\n",
       "      <td>Core i3</td>\n",
       "      <td>Windows 11 Home</td>\n",
       "      <td>512 GB</td>\n",
       "      <td>8 GB</td>\n",
       "      <td>39.62 cm (15.6 Inch)</td>\n",
       "      <td>No</td>\n",
       "      <td>₹37,990</td>\n",
       "    </tr>\n",
       "    <tr>\n",
       "      <th>2</th>\n",
       "      <td>2</td>\n",
       "      <td>Apple</td>\n",
       "      <td>2020 Macbook Air</td>\n",
       "      <td>M1</td>\n",
       "      <td>Mac OS Big Sur</td>\n",
       "      <td>256 GB</td>\n",
       "      <td>8 GB</td>\n",
       "      <td>33.78 cm (13.3 inch)</td>\n",
       "      <td>No</td>\n",
       "      <td>₹70,990</td>\n",
       "    </tr>\n",
       "    <tr>\n",
       "      <th>3</th>\n",
       "      <td>3</td>\n",
       "      <td>Apple</td>\n",
       "      <td>2020 Macbook Air</td>\n",
       "      <td>M1</td>\n",
       "      <td>Mac OS Big Sur</td>\n",
       "      <td>256 GB</td>\n",
       "      <td>8 GB</td>\n",
       "      <td>33.78 cm (13.3 inch)</td>\n",
       "      <td>No</td>\n",
       "      <td>₹70,990</td>\n",
       "    </tr>\n",
       "    <tr>\n",
       "      <th>4</th>\n",
       "      <td>4</td>\n",
       "      <td>Apple</td>\n",
       "      <td>2020 Macbook Air</td>\n",
       "      <td>M1</td>\n",
       "      <td>Mac OS Big Sur</td>\n",
       "      <td>256 GB</td>\n",
       "      <td>8 GB</td>\n",
       "      <td>33.78 cm (13.3 inch)</td>\n",
       "      <td>No</td>\n",
       "      <td>₹70,990</td>\n",
       "    </tr>\n",
       "  </tbody>\n",
       "</table>\n",
       "</div>"
      ],
      "text/plain": [
       "   Unnamed: 0  Brand        Model Name Processor Operating System Storage  \\\n",
       "0           0     HP      15s-fq5007TU   Core i3  Windows 11 Home  512 GB   \n",
       "1           1     HP      15s-fy5003TU   Core i3  Windows 11 Home  512 GB   \n",
       "2           2  Apple  2020 Macbook Air        M1   Mac OS Big Sur  256 GB   \n",
       "3           3  Apple  2020 Macbook Air        M1   Mac OS Big Sur  256 GB   \n",
       "4           4  Apple  2020 Macbook Air        M1   Mac OS Big Sur  256 GB   \n",
       "\n",
       "    RAM           Screen Size Touch_Screen    Price  \n",
       "0  8 GB  39.62 cm (15.6 Inch)           No  ₹38,990  \n",
       "1  8 GB  39.62 cm (15.6 Inch)           No  ₹37,990  \n",
       "2  8 GB  33.78 cm (13.3 inch)           No  ₹70,990  \n",
       "3  8 GB  33.78 cm (13.3 inch)           No  ₹70,990  \n",
       "4  8 GB  33.78 cm (13.3 inch)           No  ₹70,990  "
      ]
     },
     "execution_count": 4,
     "metadata": {},
     "output_type": "execute_result"
    }
   ],
   "source": [
    "df.head()"
   ]
  },
  {
   "cell_type": "markdown",
   "id": "cd21dd79-183f-463a-a588-67a29bf05ae3",
   "metadata": {},
   "source": [
    "# Brand Pre-Processing"
   ]
  },
  {
   "cell_type": "code",
   "execution_count": 5,
   "id": "cc2f5a1f-1f20-4889-b137-145d69ba4a22",
   "metadata": {},
   "outputs": [
    {
     "data": {
      "text/plain": [
       "(array(['HP', 'Apple', 'Lenovo', 'ASUS', 'DELL', 'Acer', 'SAMSUNG', 'MSI',\n",
       "        'Infinix', 'Ultimus', 'CHUWI', 'WINGS', 'ZEBRONICS', 'Primebook',\n",
       "        'GIGABYTE', 'realme', 'MICROSOFT', 'LG'], dtype=object),\n",
       " Brand\n",
       " HP           423\n",
       " ASUS         147\n",
       " Lenovo        62\n",
       " DELL          59\n",
       " Acer          36\n",
       " MSI           32\n",
       " Infinix       29\n",
       " Apple         11\n",
       " SAMSUNG        9\n",
       " CHUWI          7\n",
       " GIGABYTE       5\n",
       " WINGS          4\n",
       " ZEBRONICS      4\n",
       " MICROSOFT      3\n",
       " Ultimus        2\n",
       " LG             2\n",
       " realme         1\n",
       " Primebook      1\n",
       " Name: count, dtype: int64)"
      ]
     },
     "execution_count": 5,
     "metadata": {},
     "output_type": "execute_result"
    }
   ],
   "source": [
    "df[\"Brand\"].unique(),df[\"Brand\"].value_counts()"
   ]
  },
  {
   "cell_type": "code",
   "execution_count": 6,
   "id": "c085f8a4-5629-460a-a8a1-cdb4733c3f32",
   "metadata": {},
   "outputs": [],
   "source": [
    "brand_counts = df['Brand'].value_counts()\n",
    "\n",
    "# Identify values with counts less than 10\n",
    "values_to_replace = brand_counts[brand_counts < 10].index\n",
    "\n",
    "# Replace values with counts less than 10 with 'Other'"
   ]
  },
  {
   "cell_type": "code",
   "execution_count": 7,
   "id": "a2a6dccc-ab28-48a0-9c11-94e258ad6911",
   "metadata": {},
   "outputs": [],
   "source": [
    "df['Brand'] = df['Brand'].apply(lambda x: 'Other' if x in values_to_replace else x)"
   ]
  },
  {
   "cell_type": "code",
   "execution_count": 8,
   "id": "c0c8dad5-34c7-40fa-93df-06a81f5be60a",
   "metadata": {},
   "outputs": [
    {
     "data": {
      "text/plain": [
       "array(['HP', 'Apple', 'Lenovo', 'ASUS', 'DELL', 'Acer', 'Other', 'MSI',\n",
       "       'Infinix'], dtype=object)"
      ]
     },
     "execution_count": 8,
     "metadata": {},
     "output_type": "execute_result"
    }
   ],
   "source": [
    "df['Brand'].unique()"
   ]
  },
  {
   "cell_type": "markdown",
   "id": "0ba9279a-5de4-4002-b6d0-929d0611ff23",
   "metadata": {},
   "source": [
    "# Processor Pre-Processing"
   ]
  },
  {
   "cell_type": "code",
   "execution_count": 9,
   "id": "fe3ef43b-52a5-419f-b11e-541925e44899",
   "metadata": {},
   "outputs": [
    {
     "data": {
      "text/plain": [
       "Processor\n",
       "Core i5                   365\n",
       "Core i3                   163\n",
       "Ryzen 5 Hexa Core          82\n",
       "Core i7                    68\n",
       "Ryzen 7 Octa Core          67\n",
       "Celeron Dual Core          16\n",
       "Ryzen 3 Quad Core          14\n",
       "Celeron Quad Core          10\n",
       "Ryzen 5 Quad Core          10\n",
       "Ryzen 3 Dual Core           7\n",
       "Athlon Dual Core            4\n",
       "Core i9                     4\n",
       "Pentium Silver              4\n",
       "M2                          3\n",
       "M1                          3\n",
       "Ryzen 9 Octa Core           2\n",
       "Ryzen 5                     2\n",
       "M1 Max                      1\n",
       "Ryzen 5 Dual Core           1\n",
       "Ryzen 7 Quad Core           1\n",
       "M1 Pro                      1\n",
       "M3 Pro                      1\n",
       "M2 Max                      1\n",
       "MediaTek MT8788             1\n",
       "Ryzen Z1 Octa Core          1\n",
       "MediaTek Kompanio 520       1\n",
       "MediaTek Kompanio 500       1\n",
       "Ryzen Z1 HexaCore           1\n",
       "MediaTek Kompanio 1200      1\n",
       "Ryzen 9 16 Core             1\n",
       "Name: count, dtype: int64"
      ]
     },
     "execution_count": 9,
     "metadata": {},
     "output_type": "execute_result"
    }
   ],
   "source": [
    "df[\"Processor\"].unique()\n",
    "df[\"Processor\"].value_counts()"
   ]
  },
  {
   "cell_type": "code",
   "execution_count": 10,
   "id": "3bcf8eca-2232-4cfc-8b17-cdff65759c3d",
   "metadata": {},
   "outputs": [
    {
     "data": {
      "text/plain": [
       "array(['Core i3', 'M1', 'Core i7', 'Core i5', 'Ryzen 5 Hexa Core',\n",
       "       'Celeron Dual Core', 'Ryzen 7 Octa Core', 'Ryzen 5 Quad Core',\n",
       "       'Ryzen 3 Dual Core', 'Ryzen 3 Quad Core', 'M2',\n",
       "       'Celeron Quad Core', 'Athlon Dual Core', 'MediaTek Kompanio 1200',\n",
       "       'Ryzen 9 Octa Core', 'MediaTek MT8788', 'Ryzen Z1 HexaCore',\n",
       "       'MediaTek Kompanio 500', 'Core i9', 'MediaTek Kompanio 520',\n",
       "       'Ryzen Z1 Octa Core', 'Pentium Silver', 'Ryzen 5', 'M1 Max',\n",
       "       'M2 Max', 'M3 Pro', 'M1 Pro', 'Ryzen 7 Quad Core',\n",
       "       'Ryzen 5 Dual Core', 'Ryzen 9 16 Core'], dtype=object)"
      ]
     },
     "execution_count": 10,
     "metadata": {},
     "output_type": "execute_result"
    }
   ],
   "source": [
    "df['Processor'].unique()"
   ]
  },
  {
   "cell_type": "code",
   "execution_count": 11,
   "id": "d6421e7d-d0bd-4545-b968-55242cd4c508",
   "metadata": {},
   "outputs": [],
   "source": [
    "processor_counts = df[\"Processor\"].value_counts()\n",
    "values_to_replace = processor_counts[processor_counts < 11].index\n",
    "df[\"Processor\"] = df[\"Processor\"].apply(lambda x: 'Other' if x in values_to_replace else x)"
   ]
  },
  {
   "cell_type": "code",
   "execution_count": 12,
   "id": "913767ec-34d4-499a-8175-5d64105ac796",
   "metadata": {},
   "outputs": [
    {
     "data": {
      "text/plain": [
       "array(['Core i3', 'Other', 'Core i7', 'Core i5', 'Ryzen 5 Hexa Core',\n",
       "       'Celeron Dual Core', 'Ryzen 7 Octa Core', 'Ryzen 3 Quad Core'],\n",
       "      dtype=object)"
      ]
     },
     "execution_count": 12,
     "metadata": {},
     "output_type": "execute_result"
    }
   ],
   "source": [
    "df['Processor'].unique()"
   ]
  },
  {
   "cell_type": "markdown",
   "id": "1adf41f9-521e-4b04-95a7-ff0f5914c8ff",
   "metadata": {},
   "source": [
    "# Operating System Pre-Processing"
   ]
  },
  {
   "cell_type": "code",
   "execution_count": 13,
   "id": "1d1275db-c3b4-4a20-8ba0-eba764b298c4",
   "metadata": {},
   "outputs": [
    {
     "data": {
      "text/plain": [
       "(array(['Windows 11 Home', 'Mac OS Big Sur', 'DOS', 'Mac OS Monterey',\n",
       "        'Chrome', 'Windows 10', 'Windows 10 Home', 'Prime OS',\n",
       "        'Windows 11 Pro', 'Ubuntu', 'Windows 10 Pro', 'macOS Ventura',\n",
       "        'macOS Sonoma', 'Mac OS Mojave'], dtype=object),\n",
       " Operating System\n",
       " Windows 11 Home    758\n",
       " Windows 10 Home     27\n",
       " Chrome              13\n",
       " Windows 10          10\n",
       " DOS                  8\n",
       " Mac OS Monterey      5\n",
       " Windows 11 Pro       5\n",
       " Mac OS Big Sur       3\n",
       " Windows 10 Pro       3\n",
       " Prime OS             1\n",
       " Ubuntu               1\n",
       " macOS Ventura        1\n",
       " macOS Sonoma         1\n",
       " Mac OS Mojave        1\n",
       " Name: count, dtype: int64)"
      ]
     },
     "execution_count": 13,
     "metadata": {},
     "output_type": "execute_result"
    }
   ],
   "source": [
    "df[\"Operating System\"].unique(),df[\"Operating System\"].value_counts()\t"
   ]
  },
  {
   "cell_type": "code",
   "execution_count": 14,
   "id": "5f7b28d5-529e-4011-b13d-ec6f2c7ee478",
   "metadata": {},
   "outputs": [],
   "source": [
    "os_counts = df[\"Operating System\"].value_counts()\n",
    "values_to_replace = os_counts[os_counts < 8].index\n",
    "df[\"Operating System\"] = df[\"Operating System\"].apply(lambda x: 'Other' if x in values_to_replace else x)"
   ]
  },
  {
   "cell_type": "code",
   "execution_count": 15,
   "id": "41a1d598-16de-4291-9d30-269d30253a96",
   "metadata": {},
   "outputs": [
    {
     "data": {
      "text/plain": [
       "array(['Windows 11 Home', 'Other', 'DOS', 'Chrome', 'Windows 10',\n",
       "       'Windows 10 Home'], dtype=object)"
      ]
     },
     "execution_count": 15,
     "metadata": {},
     "output_type": "execute_result"
    }
   ],
   "source": [
    "df[\"Operating System\"].unique()"
   ]
  },
  {
   "cell_type": "markdown",
   "id": "13e7119c-92fb-49d6-a6fe-9853b65c14e8",
   "metadata": {},
   "source": [
    "# Storage Pre-Processing"
   ]
  },
  {
   "cell_type": "code",
   "execution_count": 16,
   "id": "6a4ebef9-47e0-4efe-a58b-839173bda369",
   "metadata": {},
   "outputs": [],
   "source": [
    "df.dropna(inplace=True)"
   ]
  },
  {
   "cell_type": "code",
   "execution_count": 17,
   "id": "a8ca4c1d-d3d8-4f58-8435-3d234ff3ae67",
   "metadata": {},
   "outputs": [
    {
     "data": {
      "text/plain": [
       "Unnamed: 0          0\n",
       "Brand               0\n",
       "Model Name          0\n",
       "Processor           0\n",
       "Operating System    0\n",
       "Storage             0\n",
       "RAM                 0\n",
       "Screen Size         0\n",
       "Touch_Screen        0\n",
       "Price               0\n",
       "dtype: int64"
      ]
     },
     "execution_count": 17,
     "metadata": {},
     "output_type": "execute_result"
    }
   ],
   "source": [
    "df.isnull().sum()"
   ]
  },
  {
   "cell_type": "code",
   "execution_count": 18,
   "id": "eb6ea865-4d21-4b75-8018-e7d1c874b35c",
   "metadata": {},
   "outputs": [
    {
     "data": {
      "text/plain": [
       "(array(['512 GB', '256 GB', '1 TB', '2 TB', '4 TB', '128 GB', '64 GB',\n",
       "        '3 TB', '6 TB'], dtype=object),\n",
       " Storage\n",
       " 512 GB    627\n",
       " 1 TB      101\n",
       " 256 GB     49\n",
       " 2 TB       20\n",
       " 128 GB     12\n",
       " 4 TB       10\n",
       " 64 GB       4\n",
       " 3 TB        1\n",
       " 6 TB        1\n",
       " Name: count, dtype: int64)"
      ]
     },
     "execution_count": 18,
     "metadata": {},
     "output_type": "execute_result"
    }
   ],
   "source": [
    "df[\"Storage\"].unique(), df[\"Storage\"].value_counts()"
   ]
  },
  {
   "cell_type": "markdown",
   "id": "d5d6f37e-bda1-4e33-8cbe-a24f02520495",
   "metadata": {},
   "source": [
    "# RAM Pre-Processing"
   ]
  },
  {
   "cell_type": "code",
   "execution_count": 19,
   "id": "0a952ad8-8d73-4b6f-8ebd-f87c63f8c880",
   "metadata": {},
   "outputs": [
    {
     "data": {
      "text/plain": [
       "(array(['8 GB', '16 GB', '4 GB', '12 GB', '32 GB', '64 GB', '18 GB'],\n",
       "       dtype=object),\n",
       " RAM\n",
       " 8 GB     414\n",
       " 16 GB    373\n",
       " 4 GB      24\n",
       " 32 GB      9\n",
       " 12 GB      2\n",
       " 64 GB      2\n",
       " 18 GB      1\n",
       " Name: count, dtype: int64)"
      ]
     },
     "execution_count": 19,
     "metadata": {},
     "output_type": "execute_result"
    }
   ],
   "source": [
    "df[\"RAM\"].unique(),df[\"RAM\"].value_counts()"
   ]
  },
  {
   "cell_type": "code",
   "execution_count": 20,
   "id": "eaab53ea-a2cf-41c3-9a8a-f23e632fc250",
   "metadata": {},
   "outputs": [
    {
     "data": {
      "text/plain": [
       "(array(['8 GB', '16 GB', '4 GB', '12 GB', '32 GB', '64 GB', '18 GB'],\n",
       "       dtype=object),\n",
       " RAM\n",
       " 8 GB     414\n",
       " 16 GB    373\n",
       " 4 GB      24\n",
       " 32 GB      9\n",
       " 12 GB      2\n",
       " 64 GB      2\n",
       " 18 GB      1\n",
       " Name: count, dtype: int64)"
      ]
     },
     "execution_count": 20,
     "metadata": {},
     "output_type": "execute_result"
    }
   ],
   "source": [
    "df[\"RAM\"].unique(),df[\"RAM\"].value_counts()"
   ]
  },
  {
   "cell_type": "markdown",
   "id": "2008874e-3858-4717-b657-413872f2ef23",
   "metadata": {},
   "source": [
    "# Converting astype()"
   ]
  },
  {
   "cell_type": "markdown",
   "id": "fb6eca0e-858d-46cc-b472-e21a2a2b72cd",
   "metadata": {},
   "source": [
    "# Price"
   ]
  },
  {
   "cell_type": "code",
   "execution_count": 22,
   "id": "10c2181c-ef71-4d0f-9fba-b125ce4cc438",
   "metadata": {},
   "outputs": [],
   "source": [
    "prices = [i for i in df['Price']]\n",
    "\n",
    "def clean_prices(prices_list):\n",
    "    cleaned_data = []\n",
    "    for price in prices_list:\n",
    "        if '₹' in price:\n",
    "            price = price.replace('₹', '')\n",
    "        elif ',' in price:\n",
    "            price = price.replace(',','')\n",
    "        cleaned_data.append(price)\n",
    "    return cleaned_data\n",
    "\n",
    "df['Price'] = clean_prices(prices)\n",
    "df['Price'] = df['Price'].astype(float)"
   ]
  },
  {
   "cell_type": "markdown",
   "id": "6e95a52f-80fc-459d-876b-a1fcb9acc248",
   "metadata": {},
   "source": [
    "# RAM"
   ]
  },
  {
   "cell_type": "code",
   "execution_count": 23,
   "id": "a552b416-4f36-481a-b625-da0392d6ad57",
   "metadata": {},
   "outputs": [],
   "source": [
    "ram=[i for i in df[\"RAM\"]]\n",
    "def clean_ram(ram_list):\n",
    "    cleaned_ram=[]\n",
    "    for ram in ram_list:\n",
    "        if 'GB' in ram:\n",
    "            ram=ram.replace('GB','')\n",
    "        cleaned_ram.append(ram)\n",
    "    return cleaned_ram\n",
    "df[\"RAM\"]=clean_ram(ram)\n",
    "df[\"RAM\"]=df[\"RAM\"].astype(float)"
   ]
  },
  {
   "cell_type": "markdown",
   "id": "ab464d39-9a7f-4eac-aac9-390ea49ffa78",
   "metadata": {},
   "source": [
    "# TouchScreen"
   ]
  },
  {
   "cell_type": "code",
   "execution_count": 24,
   "id": "448ee6fe-83fa-4f9b-b9ca-083b3de6bf2e",
   "metadata": {},
   "outputs": [],
   "source": [
    "touch=[i for i in df[\"Touch_Screen\"]]\n",
    "def clean_touch(touch_list):\n",
    "    cleaned_touch=[]\n",
    "    for touch in touch_list:\n",
    "        if \"Yes\" in touch:\n",
    "            touch=touch.replace(\"Yes\",\"1\")\n",
    "        elif \"No\" in touch:\n",
    "            touch=touch.replace(\"No\",\"0\")\n",
    "        cleaned_touch.append(touch)\n",
    "    return cleaned_touch\n",
    "df[\"Touch_Screen\"]=clean_touch(touch)\n",
    "df[\"Touch_Screen\"]=df[\"Touch_Screen\"].astype(int)"
   ]
  },
  {
   "cell_type": "markdown",
   "id": "d654124d-7c62-4cb8-a0df-2b29b5e3b858",
   "metadata": {},
   "source": [
    "# ScreenSize"
   ]
  },
  {
   "cell_type": "code",
   "execution_count": 25,
   "id": "4faeaa27-c6e2-43ea-9c4b-4d94d8e77046",
   "metadata": {},
   "outputs": [],
   "source": [
    "size=[i for i in df[\"Screen Size\"]]\n",
    "def clean_size(size_list):\n",
    "    cleaned_size=[]\n",
    "    for size in size_list:\n",
    "        \n",
    "        size=size[0:5]\n",
    "        cleaned_size.append(size)\n",
    "    return cleaned_size\n",
    "df[\"Screen Size\"]=clean_size(size)\n",
    "df[\"Screen Size\"]=df[\"Screen Size\"].astype(float)"
   ]
  },
  {
   "cell_type": "markdown",
   "id": "be327729-e38a-4fd2-a74e-b49384742437",
   "metadata": {},
   "source": [
    "# Storage\n"
   ]
  },
  {
   "cell_type": "code",
   "execution_count": 26,
   "id": "a610bdd2-cc98-4a5e-a76c-f4573e88f04b",
   "metadata": {},
   "outputs": [],
   "source": [
    "def mb_convert(s):\n",
    "    print(s)\n",
    "    num=''\n",
    "    if 'GB' in s:\n",
    "        for i in s:\n",
    "            if i.isdigit():\n",
    "                num+=i\n",
    "        return int(num)*1024\n",
    "    elif 'TB' in s:\n",
    "        for i in s:\n",
    "            if i.isdigit():\n",
    "                num+=i\n",
    "        return int(num)*(1024**2)"
   ]
  },
  {
   "cell_type": "code",
   "execution_count": 27,
   "id": "2a90f7ec-e3e9-454b-8bdc-e560afbad391",
   "metadata": {},
   "outputs": [
    {
     "name": "stdout",
     "output_type": "stream",
     "text": [
      "512 GB\n",
      "512 GB\n",
      "256 GB\n",
      "256 GB\n",
      "256 GB\n",
      "512 GB\n",
      "512 GB\n",
      "256 GB\n",
      "512 GB\n",
      "512 GB\n",
      "1 TB\n",
      "512 GB\n",
      "2 TB\n",
      "256 GB\n",
      "512 GB\n",
      "512 GB\n",
      "512 GB\n",
      "512 GB\n",
      "512 GB\n",
      "512 GB\n",
      "512 GB\n",
      "512 GB\n",
      "512 GB\n",
      "512 GB\n",
      "512 GB\n",
      "512 GB\n",
      "512 GB\n",
      "512 GB\n",
      "512 GB\n",
      "512 GB\n",
      "512 GB\n",
      "1 TB\n",
      "512 GB\n",
      "2 TB\n",
      "512 GB\n",
      "512 GB\n",
      "512 GB\n",
      "512 GB\n",
      "2 TB\n",
      "512 GB\n",
      "512 GB\n",
      "512 GB\n",
      "512 GB\n",
      "512 GB\n",
      "4 TB\n",
      "512 GB\n",
      "512 GB\n",
      "512 GB\n",
      "128 GB\n",
      "512 GB\n",
      "512 GB\n",
      "512 GB\n",
      "1 TB\n",
      "1 TB\n",
      "1 TB\n",
      "512 GB\n",
      "2 TB\n",
      "256 GB\n",
      "512 GB\n",
      "512 GB\n",
      "512 GB\n",
      "1 TB\n",
      "512 GB\n",
      "512 GB\n",
      "1 TB\n",
      "512 GB\n",
      "256 GB\n",
      "512 GB\n",
      "512 GB\n",
      "512 GB\n",
      "512 GB\n",
      "512 GB\n",
      "512 GB\n",
      "1 TB\n",
      "256 GB\n",
      "512 GB\n",
      "1 TB\n",
      "512 GB\n",
      "512 GB\n",
      "512 GB\n",
      "512 GB\n",
      "512 GB\n",
      "512 GB\n",
      "512 GB\n",
      "512 GB\n",
      "512 GB\n",
      "512 GB\n",
      "512 GB\n",
      "512 GB\n",
      "512 GB\n",
      "512 GB\n",
      "512 GB\n",
      "512 GB\n",
      "512 GB\n",
      "512 GB\n",
      "512 GB\n",
      "512 GB\n",
      "512 GB\n",
      "1 TB\n",
      "512 GB\n",
      "512 GB\n",
      "2 TB\n",
      "512 GB\n",
      "512 GB\n",
      "512 GB\n",
      "512 GB\n",
      "512 GB\n",
      "512 GB\n",
      "256 GB\n",
      "512 GB\n",
      "512 GB\n",
      "512 GB\n",
      "512 GB\n",
      "512 GB\n",
      "512 GB\n",
      "256 GB\n",
      "512 GB\n",
      "1 TB\n",
      "256 GB\n",
      "1 TB\n",
      "512 GB\n",
      "512 GB\n",
      "512 GB\n",
      "512 GB\n",
      "512 GB\n",
      "256 GB\n",
      "512 GB\n",
      "512 GB\n",
      "512 GB\n",
      "512 GB\n",
      "512 GB\n",
      "512 GB\n",
      "512 GB\n",
      "512 GB\n",
      "512 GB\n",
      "64 GB\n",
      "512 GB\n",
      "512 GB\n",
      "512 GB\n",
      "512 GB\n",
      "1 TB\n",
      "512 GB\n",
      "1 TB\n",
      "512 GB\n",
      "512 GB\n",
      "512 GB\n",
      "512 GB\n",
      "512 GB\n",
      "2 TB\n",
      "512 GB\n",
      "512 GB\n",
      "512 GB\n",
      "512 GB\n",
      "1 TB\n",
      "512 GB\n",
      "512 GB\n",
      "1 TB\n",
      "2 TB\n",
      "512 GB\n",
      "512 GB\n",
      "512 GB\n",
      "512 GB\n",
      "512 GB\n",
      "512 GB\n",
      "512 GB\n",
      "512 GB\n",
      "512 GB\n",
      "512 GB\n",
      "256 GB\n",
      "512 GB\n",
      "512 GB\n",
      "512 GB\n",
      "512 GB\n",
      "512 GB\n",
      "512 GB\n",
      "4 TB\n",
      "512 GB\n",
      "512 GB\n",
      "512 GB\n",
      "512 GB\n",
      "512 GB\n",
      "1 TB\n",
      "512 GB\n",
      "512 GB\n",
      "512 GB\n",
      "512 GB\n",
      "1 TB\n",
      "2 TB\n",
      "512 GB\n",
      "512 GB\n",
      "512 GB\n",
      "1 TB\n",
      "512 GB\n",
      "512 GB\n",
      "512 GB\n",
      "512 GB\n",
      "512 GB\n",
      "1 TB\n",
      "512 GB\n",
      "512 GB\n",
      "512 GB\n",
      "256 GB\n",
      "1 TB\n",
      "512 GB\n",
      "1 TB\n",
      "512 GB\n",
      "512 GB\n",
      "512 GB\n",
      "512 GB\n",
      "512 GB\n",
      "256 GB\n",
      "1 TB\n",
      "512 GB\n",
      "512 GB\n",
      "512 GB\n",
      "512 GB\n",
      "1 TB\n",
      "512 GB\n",
      "1 TB\n",
      "512 GB\n",
      "1 TB\n",
      "512 GB\n",
      "512 GB\n",
      "512 GB\n",
      "128 GB\n",
      "256 GB\n",
      "512 GB\n",
      "512 GB\n",
      "512 GB\n",
      "128 GB\n",
      "256 GB\n",
      "512 GB\n",
      "512 GB\n",
      "512 GB\n",
      "512 GB\n",
      "512 GB\n",
      "512 GB\n",
      "512 GB\n",
      "512 GB\n",
      "256 GB\n",
      "512 GB\n",
      "512 GB\n",
      "512 GB\n",
      "128 GB\n",
      "512 GB\n",
      "512 GB\n",
      "1 TB\n",
      "512 GB\n",
      "128 GB\n",
      "1 TB\n",
      "512 GB\n",
      "512 GB\n",
      "1 TB\n",
      "512 GB\n",
      "512 GB\n",
      "512 GB\n",
      "512 GB\n",
      "1 TB\n",
      "4 TB\n",
      "512 GB\n",
      "512 GB\n",
      "512 GB\n",
      "256 GB\n",
      "512 GB\n",
      "512 GB\n",
      "512 GB\n",
      "512 GB\n",
      "512 GB\n",
      "256 GB\n",
      "512 GB\n",
      "512 GB\n",
      "1 TB\n",
      "512 GB\n",
      "1 TB\n",
      "64 GB\n",
      "512 GB\n",
      "512 GB\n",
      "512 GB\n",
      "512 GB\n",
      "2 TB\n",
      "512 GB\n",
      "512 GB\n",
      "512 GB\n",
      "512 GB\n",
      "512 GB\n",
      "512 GB\n",
      "512 GB\n",
      "512 GB\n",
      "512 GB\n",
      "1 TB\n",
      "512 GB\n",
      "512 GB\n",
      "512 GB\n",
      "512 GB\n",
      "512 GB\n",
      "4 TB\n",
      "1 TB\n",
      "512 GB\n",
      "512 GB\n",
      "1 TB\n",
      "3 TB\n",
      "512 GB\n",
      "4 TB\n",
      "512 GB\n",
      "512 GB\n",
      "512 GB\n",
      "512 GB\n",
      "1 TB\n",
      "512 GB\n",
      "2 TB\n",
      "1 TB\n",
      "512 GB\n",
      "512 GB\n",
      "512 GB\n",
      "512 GB\n",
      "2 TB\n",
      "512 GB\n",
      "512 GB\n",
      "512 GB\n",
      "512 GB\n",
      "512 GB\n",
      "512 GB\n",
      "512 GB\n",
      "512 GB\n",
      "512 GB\n",
      "1 TB\n",
      "512 GB\n",
      "1 TB\n",
      "512 GB\n",
      "256 GB\n",
      "128 GB\n",
      "6 TB\n",
      "512 GB\n",
      "512 GB\n",
      "512 GB\n",
      "512 GB\n",
      "512 GB\n",
      "512 GB\n",
      "512 GB\n",
      "256 GB\n",
      "512 GB\n",
      "512 GB\n",
      "512 GB\n",
      "1 TB\n",
      "512 GB\n",
      "512 GB\n",
      "512 GB\n",
      "512 GB\n",
      "512 GB\n",
      "128 GB\n",
      "512 GB\n",
      "512 GB\n",
      "512 GB\n",
      "512 GB\n",
      "512 GB\n",
      "512 GB\n",
      "512 GB\n",
      "512 GB\n",
      "512 GB\n",
      "1 TB\n",
      "512 GB\n",
      "512 GB\n",
      "2 TB\n",
      "1 TB\n",
      "512 GB\n",
      "512 GB\n",
      "512 GB\n",
      "512 GB\n",
      "512 GB\n",
      "4 TB\n",
      "1 TB\n",
      "512 GB\n",
      "512 GB\n",
      "512 GB\n",
      "512 GB\n",
      "1 TB\n",
      "512 GB\n",
      "512 GB\n",
      "1 TB\n",
      "512 GB\n",
      "512 GB\n",
      "512 GB\n",
      "512 GB\n",
      "512 GB\n",
      "512 GB\n",
      "512 GB\n",
      "512 GB\n",
      "512 GB\n",
      "1 TB\n",
      "512 GB\n",
      "1 TB\n",
      "1 TB\n",
      "512 GB\n",
      "512 GB\n",
      "128 GB\n",
      "512 GB\n",
      "512 GB\n",
      "512 GB\n",
      "512 GB\n",
      "512 GB\n",
      "512 GB\n",
      "512 GB\n",
      "512 GB\n",
      "1 TB\n",
      "128 GB\n",
      "512 GB\n",
      "512 GB\n",
      "512 GB\n",
      "128 GB\n",
      "512 GB\n",
      "512 GB\n",
      "512 GB\n",
      "1 TB\n",
      "512 GB\n",
      "256 GB\n",
      "512 GB\n",
      "512 GB\n",
      "512 GB\n",
      "1 TB\n",
      "4 TB\n",
      "1 TB\n",
      "512 GB\n",
      "512 GB\n",
      "512 GB\n",
      "512 GB\n",
      "512 GB\n",
      "512 GB\n",
      "512 GB\n",
      "512 GB\n",
      "1 TB\n",
      "512 GB\n",
      "512 GB\n",
      "512 GB\n",
      "512 GB\n",
      "512 GB\n",
      "1 TB\n",
      "512 GB\n",
      "1 TB\n",
      "512 GB\n",
      "1 TB\n",
      "512 GB\n",
      "512 GB\n",
      "512 GB\n",
      "512 GB\n",
      "512 GB\n",
      "512 GB\n",
      "512 GB\n",
      "512 GB\n",
      "512 GB\n",
      "128 GB\n",
      "512 GB\n",
      "512 GB\n",
      "512 GB\n",
      "512 GB\n",
      "512 GB\n",
      "512 GB\n",
      "512 GB\n",
      "512 GB\n",
      "512 GB\n",
      "256 GB\n",
      "512 GB\n",
      "1 TB\n",
      "512 GB\n",
      "512 GB\n",
      "512 GB\n",
      "1 TB\n",
      "512 GB\n",
      "512 GB\n",
      "512 GB\n",
      "512 GB\n",
      "256 GB\n",
      "512 GB\n",
      "512 GB\n",
      "1 TB\n",
      "2 TB\n",
      "512 GB\n",
      "512 GB\n",
      "512 GB\n",
      "512 GB\n",
      "512 GB\n",
      "512 GB\n",
      "512 GB\n",
      "512 GB\n",
      "512 GB\n",
      "512 GB\n",
      "512 GB\n",
      "512 GB\n",
      "256 GB\n",
      "512 GB\n",
      "512 GB\n",
      "1 TB\n",
      "512 GB\n",
      "512 GB\n",
      "512 GB\n",
      "512 GB\n",
      "512 GB\n",
      "1 TB\n",
      "256 GB\n",
      "512 GB\n",
      "512 GB\n",
      "512 GB\n",
      "512 GB\n",
      "512 GB\n",
      "256 GB\n",
      "512 GB\n",
      "512 GB\n",
      "512 GB\n",
      "1 TB\n",
      "512 GB\n",
      "64 GB\n",
      "512 GB\n",
      "512 GB\n",
      "512 GB\n",
      "512 GB\n",
      "512 GB\n",
      "512 GB\n",
      "512 GB\n",
      "512 GB\n",
      "512 GB\n",
      "512 GB\n",
      "512 GB\n",
      "512 GB\n",
      "512 GB\n",
      "1 TB\n",
      "512 GB\n",
      "512 GB\n",
      "512 GB\n",
      "512 GB\n",
      "128 GB\n",
      "512 GB\n",
      "512 GB\n",
      "512 GB\n",
      "512 GB\n",
      "512 GB\n",
      "512 GB\n",
      "512 GB\n",
      "512 GB\n",
      "1 TB\n",
      "256 GB\n",
      "512 GB\n",
      "1 TB\n",
      "512 GB\n",
      "512 GB\n",
      "4 TB\n",
      "256 GB\n",
      "1 TB\n",
      "512 GB\n",
      "512 GB\n",
      "1 TB\n",
      "512 GB\n",
      "2 TB\n",
      "512 GB\n",
      "512 GB\n",
      "1 TB\n",
      "512 GB\n",
      "512 GB\n",
      "512 GB\n",
      "1 TB\n",
      "512 GB\n",
      "1 TB\n",
      "512 GB\n",
      "512 GB\n",
      "512 GB\n",
      "512 GB\n",
      "512 GB\n",
      "512 GB\n",
      "512 GB\n",
      "1 TB\n",
      "512 GB\n",
      "512 GB\n",
      "1 TB\n",
      "1 TB\n",
      "1 TB\n",
      "512 GB\n",
      "512 GB\n",
      "512 GB\n",
      "2 TB\n",
      "512 GB\n",
      "512 GB\n",
      "512 GB\n",
      "512 GB\n",
      "256 GB\n",
      "512 GB\n",
      "1 TB\n",
      "512 GB\n",
      "512 GB\n",
      "512 GB\n",
      "1 TB\n",
      "512 GB\n",
      "512 GB\n",
      "512 GB\n",
      "512 GB\n",
      "512 GB\n",
      "512 GB\n",
      "2 TB\n",
      "256 GB\n",
      "512 GB\n",
      "1 TB\n",
      "512 GB\n",
      "512 GB\n",
      "512 GB\n",
      "256 GB\n",
      "512 GB\n",
      "512 GB\n",
      "256 GB\n",
      "256 GB\n",
      "512 GB\n",
      "512 GB\n",
      "512 GB\n",
      "512 GB\n",
      "512 GB\n",
      "512 GB\n",
      "512 GB\n",
      "512 GB\n",
      "512 GB\n",
      "512 GB\n",
      "512 GB\n",
      "256 GB\n",
      "512 GB\n",
      "512 GB\n",
      "512 GB\n",
      "512 GB\n",
      "512 GB\n",
      "1 TB\n",
      "512 GB\n",
      "512 GB\n",
      "4 TB\n",
      "512 GB\n",
      "512 GB\n",
      "512 GB\n",
      "512 GB\n",
      "512 GB\n",
      "1 TB\n",
      "512 GB\n",
      "256 GB\n",
      "1 TB\n",
      "512 GB\n",
      "512 GB\n",
      "512 GB\n",
      "512 GB\n",
      "2 TB\n",
      "512 GB\n",
      "512 GB\n",
      "512 GB\n",
      "512 GB\n",
      "512 GB\n",
      "512 GB\n",
      "512 GB\n",
      "512 GB\n",
      "512 GB\n",
      "1 TB\n",
      "512 GB\n",
      "256 GB\n",
      "512 GB\n",
      "1 TB\n",
      "512 GB\n",
      "512 GB\n",
      "256 GB\n",
      "256 GB\n",
      "512 GB\n",
      "512 GB\n",
      "512 GB\n",
      "512 GB\n",
      "512 GB\n",
      "512 GB\n",
      "512 GB\n",
      "512 GB\n",
      "512 GB\n",
      "512 GB\n",
      "512 GB\n",
      "512 GB\n",
      "512 GB\n",
      "512 GB\n",
      "512 GB\n",
      "512 GB\n",
      "512 GB\n",
      "512 GB\n",
      "512 GB\n",
      "1 TB\n",
      "1 TB\n",
      "512 GB\n",
      "512 GB\n",
      "512 GB\n",
      "512 GB\n",
      "512 GB\n",
      "256 GB\n",
      "512 GB\n",
      "256 GB\n",
      "2 TB\n",
      "512 GB\n",
      "512 GB\n",
      "512 GB\n",
      "512 GB\n",
      "512 GB\n",
      "512 GB\n",
      "512 GB\n",
      "1 TB\n",
      "256 GB\n",
      "1 TB\n",
      "512 GB\n",
      "512 GB\n",
      "512 GB\n",
      "512 GB\n",
      "512 GB\n",
      "256 GB\n",
      "512 GB\n",
      "1 TB\n",
      "512 GB\n",
      "512 GB\n",
      "512 GB\n",
      "512 GB\n",
      "512 GB\n",
      "256 GB\n",
      "512 GB\n",
      "512 GB\n",
      "512 GB\n",
      "512 GB\n",
      "512 GB\n",
      "512 GB\n",
      "512 GB\n",
      "1 TB\n",
      "256 GB\n",
      "1 TB\n",
      "512 GB\n",
      "512 GB\n",
      "512 GB\n",
      "512 GB\n",
      "1 TB\n",
      "512 GB\n",
      "1 TB\n",
      "512 GB\n",
      "512 GB\n",
      "512 GB\n",
      "512 GB\n",
      "512 GB\n",
      "512 GB\n",
      "512 GB\n",
      "512 GB\n",
      "512 GB\n",
      "512 GB\n",
      "1 TB\n",
      "512 GB\n",
      "1 TB\n",
      "512 GB\n",
      "512 GB\n",
      "512 GB\n",
      "512 GB\n",
      "512 GB\n",
      "1 TB\n",
      "512 GB\n",
      "512 GB\n",
      "256 GB\n",
      "512 GB\n",
      "512 GB\n",
      "512 GB\n",
      "512 GB\n",
      "512 GB\n",
      "512 GB\n",
      "512 GB\n",
      "512 GB\n",
      "512 GB\n",
      "256 GB\n",
      "512 GB\n",
      "1 TB\n",
      "512 GB\n",
      "512 GB\n",
      "1 TB\n",
      "512 GB\n",
      "512 GB\n",
      "512 GB\n",
      "512 GB\n",
      "2 TB\n",
      "512 GB\n",
      "512 GB\n",
      "512 GB\n",
      "512 GB\n",
      "256 GB\n",
      "512 GB\n",
      "512 GB\n",
      "512 GB\n",
      "512 GB\n",
      "512 GB\n",
      "512 GB\n",
      "512 GB\n",
      "512 GB\n",
      "512 GB\n",
      "512 GB\n",
      "512 GB\n",
      "512 GB\n",
      "512 GB\n",
      "512 GB\n",
      "64 GB\n",
      "512 GB\n",
      "512 GB\n",
      "512 GB\n",
      "512 GB\n",
      "512 GB\n",
      "512 GB\n",
      "512 GB\n",
      "512 GB\n",
      "1 TB\n",
      "512 GB\n",
      "1 TB\n",
      "2 TB\n",
      "512 GB\n",
      "512 GB\n",
      "1 TB\n",
      "512 GB\n",
      "512 GB\n",
      "512 GB\n",
      "512 GB\n",
      "512 GB\n",
      "512 GB\n",
      "512 GB\n",
      "512 GB\n",
      "1 TB\n",
      "512 GB\n",
      "512 GB\n",
      "512 GB\n",
      "512 GB\n",
      "512 GB\n",
      "1 TB\n",
      "4 TB\n",
      "512 GB\n",
      "512 GB\n"
     ]
    }
   ],
   "source": [
    "df[\"Storage\"]=df[\"Storage\"].apply(mb_convert)"
   ]
  },
  {
   "cell_type": "markdown",
   "id": "822e8a32-5191-406b-91d3-8fed4c7051ea",
   "metadata": {},
   "source": [
    "# Scatterplot"
   ]
  },
  {
   "cell_type": "code",
   "execution_count": 28,
   "id": "d74a5e76-0db9-4fc8-b05c-fbb5c6c134a3",
   "metadata": {},
   "outputs": [
    {
     "data": {
      "text/plain": [
       "array(['Windows 11 Home', 'Other', 'DOS', 'Chrome', 'Windows 10',\n",
       "       'Windows 10 Home'], dtype=object)"
      ]
     },
     "execution_count": 28,
     "metadata": {},
     "output_type": "execute_result"
    }
   ],
   "source": [
    "df[\"Operating System\"].unique()"
   ]
  },
  {
   "cell_type": "markdown",
   "id": "aae3e17f-39ee-4afa-b1dd-f5eead31556b",
   "metadata": {},
   "source": [
    "# Dictionary"
   ]
  },
  {
   "cell_type": "markdown",
   "id": "a5fb45f1-2743-40ba-86cf-f91451e36c40",
   "metadata": {},
   "source": [
    "# Operating System"
   ]
  },
  {
   "cell_type": "code",
   "execution_count": 29,
   "id": "74104019-0db0-4202-9d2a-6da97490a446",
   "metadata": {},
   "outputs": [
    {
     "data": {
      "text/plain": [
       "array(['Windows 11 Home', 'Other', 'DOS', 'Chrome', 'Windows 10',\n",
       "       'Windows 10 Home'], dtype=object)"
      ]
     },
     "execution_count": 29,
     "metadata": {},
     "output_type": "execute_result"
    }
   ],
   "source": [
    "df[\"Operating System\"].unique()"
   ]
  },
  {
   "cell_type": "code",
   "execution_count": 30,
   "id": "eb3687d6-34bf-411d-870e-5ae225b9e35b",
   "metadata": {},
   "outputs": [
    {
     "data": {
      "text/plain": [
       "{'Other': 1,\n",
       " 'Chrome': 2,\n",
       " 'DOS': 3,\n",
       " 'Windows 10 Home': 4,\n",
       " 'Windows 10': 5,\n",
       " 'Windows 11 Home': 6}"
      ]
     },
     "execution_count": 30,
     "metadata": {},
     "output_type": "execute_result"
    }
   ],
   "source": [
    "OS_dic = {}\n",
    "for i,j in enumerate([\"Other\",\"Chrome\",\"DOS\",\"Windows 10 Home\",\"Windows 10\",'Windows 11 Home']):\n",
    "    OS_dic[j] = i+1\n",
    "OS_dic"
   ]
  },
  {
   "cell_type": "code",
   "execution_count": 31,
   "id": "7c41e596-3c29-4942-9dda-9c0a3362703e",
   "metadata": {},
   "outputs": [],
   "source": [
    "df['Operating System'] = df['Operating System'].map(OS_dic)"
   ]
  },
  {
   "cell_type": "markdown",
   "id": "af16cb1f-1c66-4c13-88e3-e411a5765201",
   "metadata": {},
   "source": [
    "# Processor"
   ]
  },
  {
   "cell_type": "code",
   "execution_count": null,
   "id": "8548bb73-d858-4d0b-8104-79454129cf15",
   "metadata": {},
   "outputs": [],
   "source": [
    "df[\"Processor\"].unique()"
   ]
  },
  {
   "cell_type": "code",
   "execution_count": null,
   "id": "0a8fd57c-5fd8-4799-8584-8887de56da8d",
   "metadata": {},
   "outputs": [],
   "source": [
    "pro_dic={}\n",
    "for i,j in enumerate(['Other','Core i3','Core i5', 'Core i7','Celeron Dual Core', 'Ryzen 3 Quad Core', 'Ryzen 5 Hexa Core',\n",
    "       'Ryzen 7 Octa Core' ]):\n",
    "    pro_dic[j]=i+1\n",
    "pro_dic"
   ]
  },
  {
   "cell_type": "code",
   "execution_count": null,
   "id": "4215e1b4-e7a0-4913-b65e-1f09b6f0d989",
   "metadata": {},
   "outputs": [],
   "source": [
    "df['Processor'] = df['Processor'].map(pro_dic)"
   ]
  },
  {
   "cell_type": "markdown",
   "id": "5cc02aa0-96a5-4c06-a350-8f07778658b2",
   "metadata": {},
   "source": [
    "# Correlation"
   ]
  },
  {
   "cell_type": "code",
   "execution_count": null,
   "id": "66d44781-ecf0-4885-81d3-6f1b7b73992e",
   "metadata": {},
   "outputs": [],
   "source": [
    "corr=df.select_dtypes(\"number\").corr()\n",
    "sns.heatmap(corr,annot=True)"
   ]
  },
  {
   "cell_type": "markdown",
   "id": "dc56e803-c8f1-4eb4-830b-e935a79c1a4c",
   "metadata": {},
   "source": [
    "# Label Encoding on Brand column"
   ]
  },
  {
   "cell_type": "code",
   "execution_count": null,
   "id": "423841a3-e6b5-419b-8b9b-011c4d427bf4",
   "metadata": {},
   "outputs": [],
   "source": [
    "from sklearn import preprocessing"
   ]
  },
  {
   "cell_type": "code",
   "execution_count": null,
   "id": "e74ab3a6-0cb5-44a3-89e5-f2207ad80954",
   "metadata": {},
   "outputs": [],
   "source": [
    "label_encoder=preprocessing.LabelEncoder()"
   ]
  },
  {
   "cell_type": "code",
   "execution_count": null,
   "id": "ab66a6d1-a000-4820-a182-b29a92433fa3",
   "metadata": {},
   "outputs": [],
   "source": [
    "df[\"Brand\"]=label_encoder.fit_transform(df[\"Brand\"])"
   ]
  },
  {
   "cell_type": "code",
   "execution_count": null,
   "id": "c9e0075c-0ee4-49f7-8acc-0bea32a7097a",
   "metadata": {},
   "outputs": [],
   "source": [
    "df[\"Brand\"].unique()"
   ]
  },
  {
   "cell_type": "markdown",
   "id": "021f83d6-10b8-45ab-b221-f33691392e9d",
   "metadata": {},
   "source": [
    "# Dropping Columns"
   ]
  },
  {
   "cell_type": "code",
   "execution_count": null,
   "id": "9e7ed3ad-dce1-4cbe-ae15-219bf5489f24",
   "metadata": {},
   "outputs": [],
   "source": [
    "df.drop(\"Model Name\",axis=1,inplace=True)"
   ]
  },
  {
   "cell_type": "code",
   "execution_count": null,
   "id": "ceab04d1-7ed1-4825-bf2a-5236128e9fce",
   "metadata": {},
   "outputs": [],
   "source": [
    "df.drop(\"Unnamed: 0\",axis=1,inplace=True)"
   ]
  },
  {
   "cell_type": "code",
   "execution_count": null,
   "id": "2da27b37-d52a-4baa-bf7b-0ea89e1c2e4d",
   "metadata": {},
   "outputs": [],
   "source": [
    "df.head()"
   ]
  },
  {
   "cell_type": "code",
   "execution_count": null,
   "id": "69bf23d2-9f77-49a8-8957-e68270aaf174",
   "metadata": {},
   "outputs": [],
   "source": [
    "df.sample(10)"
   ]
  },
  {
   "cell_type": "markdown",
   "id": "d7611c28-8268-451b-88d0-37d17e43608f",
   "metadata": {},
   "source": [
    "# Train-Test Split"
   ]
  },
  {
   "cell_type": "code",
   "execution_count": null,
   "id": "719e5fa4-cf85-4be1-8459-2d95f1a05bc2",
   "metadata": {},
   "outputs": [],
   "source": [
    "from sklearn.metrics import r2_score\n",
    "from sklearn.linear_model import LinearRegression\n",
    "from xgboost import XGBRegressor\n",
    "from sklearn.model_selection import train_test_split\n",
    "from sklearn.linear_model import LogisticRegression\n",
    "from sklearn.metrics import r2_score"
   ]
  },
  {
   "cell_type": "code",
   "execution_count": null,
   "id": "cd851991-19fe-452c-99d0-091e28482b74",
   "metadata": {},
   "outputs": [],
   "source": [
    "x = df.drop(columns=[\"Price\"])\n",
    "y = df['Price']"
   ]
  },
  {
   "cell_type": "code",
   "execution_count": null,
   "id": "39aa5112-108e-4aaf-823c-7ba1399c1cbe",
   "metadata": {},
   "outputs": [],
   "source": [
    "train_x, test_x,train_y,test_y = train_test_split(x,y,random_state=62)"
   ]
  },
  {
   "cell_type": "code",
   "execution_count": null,
   "id": "66bd89db-154b-44f9-b69c-71df9997ea52",
   "metadata": {},
   "outputs": [],
   "source": [
    "train_x.shape,test_x.shape"
   ]
  },
  {
   "cell_type": "code",
   "execution_count": null,
   "id": "404bfbda-2bb7-41ae-a4e8-180f3e7b84e0",
   "metadata": {},
   "outputs": [],
   "source": [
    "train_y.shape,test_y.shape"
   ]
  },
  {
   "cell_type": "markdown",
   "id": "1768e99b-a999-4b53-affb-29c218888162",
   "metadata": {},
   "source": [
    "# Regression"
   ]
  },
  {
   "cell_type": "code",
   "execution_count": null,
   "id": "0a57a3cf-500a-425f-b805-9a5ea8d79b85",
   "metadata": {},
   "outputs": [],
   "source": [
    "mod_lr = LinearRegression()"
   ]
  },
  {
   "cell_type": "code",
   "execution_count": null,
   "id": "928f883a-1752-4371-9199-5f69e47e3fa1",
   "metadata": {},
   "outputs": [],
   "source": [
    "mod_lr.fit(train_x,train_y)"
   ]
  },
  {
   "cell_type": "code",
   "execution_count": null,
   "id": "65001429-d6b3-453b-a152-e26057d90c44",
   "metadata": {},
   "outputs": [],
   "source": [
    "y_pred=mod_lr.predict(test_x)"
   ]
  },
  {
   "cell_type": "code",
   "execution_count": null,
   "id": "03a38d6b-65ea-4d3e-b866-993d55b7f97c",
   "metadata": {},
   "outputs": [],
   "source": [
    "r2_score(y_pred,test_y)*100"
   ]
  },
  {
   "cell_type": "markdown",
   "id": "fe028e41-1e1c-47cd-ad80-1f18c86e7816",
   "metadata": {},
   "source": [
    "# XGBRegressor"
   ]
  },
  {
   "cell_type": "code",
   "execution_count": null,
   "id": "e38e3fee-b586-4431-bdea-0283267e8506",
   "metadata": {},
   "outputs": [],
   "source": [
    "mod_xgb = XGBRegressor()"
   ]
  },
  {
   "cell_type": "code",
   "execution_count": null,
   "id": "c2479cc5-b639-4d2e-ba97-0b39bf2b391b",
   "metadata": {},
   "outputs": [],
   "source": [
    "mod_xgb.fit(train_x,train_y)"
   ]
  },
  {
   "cell_type": "code",
   "execution_count": null,
   "id": "18274d3b-90c7-4873-80f5-2fbf167b2658",
   "metadata": {},
   "outputs": [],
   "source": [
    "r2_score(mod_xgb.predict(test_x),test_y)*100"
   ]
  },
  {
   "cell_type": "markdown",
   "id": "54f51e33-547b-4da2-976f-c11f0430c86c",
   "metadata": {},
   "source": [
    "# Pickle File"
   ]
  },
  {
   "cell_type": "code",
   "execution_count": null,
   "id": "9823d811-8d84-49e3-8080-4bb03c66cb40",
   "metadata": {},
   "outputs": [],
   "source": [
    "import pickle\n",
    "import joblib"
   ]
  },
  {
   "cell_type": "code",
   "execution_count": null,
   "id": "2cdd6e88-b91b-4d0f-80b6-dc27daf0597e",
   "metadata": {},
   "outputs": [],
   "source": [
    "joblib.dump(mod_xgb,open(\"Laptop.pkl\",\"wb\"))"
   ]
  },
  {
   "cell_type": "markdown",
   "id": "566da3a4-6dcb-4080-a854-ca188e2ec48b",
   "metadata": {},
   "source": [
    "# Random Forest"
   ]
  },
  {
   "cell_type": "code",
   "execution_count": null,
   "id": "78348f74-d664-4614-a967-2926157b30b4",
   "metadata": {},
   "outputs": [],
   "source": [
    "from sklearn.ensemble import RandomForestClassifier"
   ]
  },
  {
   "cell_type": "code",
   "execution_count": null,
   "id": "b79e3d65-b0cf-41a3-9aab-f30d3a5a7d85",
   "metadata": {},
   "outputs": [],
   "source": [
    "rf=RandomForestClassifier()"
   ]
  },
  {
   "cell_type": "code",
   "execution_count": null,
   "id": "21ebe3a1-b66d-4b21-b24c-12f9a7bf81f1",
   "metadata": {},
   "outputs": [],
   "source": [
    "rf.fit(test_x,test_y)"
   ]
  },
  {
   "cell_type": "code",
   "execution_count": null,
   "id": "63bd8746-dca1-4eb0-90c4-9d01e8718747",
   "metadata": {},
   "outputs": [],
   "source": [
    "y_predict=rf.predict(test_x)"
   ]
  },
  {
   "cell_type": "code",
   "execution_count": null,
   "id": "d9087da1-6a90-49aa-9546-0ae1727665b0",
   "metadata": {},
   "outputs": [],
   "source": [
    "rf.score(test_x,test_y)*100"
   ]
  },
  {
   "cell_type": "markdown",
   "id": "036f2f81-4314-4714-9ada-629fb9b6a9ce",
   "metadata": {},
   "source": [
    "# Decision Tree"
   ]
  },
  {
   "cell_type": "code",
   "execution_count": null,
   "id": "af7c8aef-0a5b-4db4-a8bd-d2b96e0240a9",
   "metadata": {},
   "outputs": [],
   "source": [
    "from sklearn.tree import DecisionTreeClassifier,plot_tree"
   ]
  },
  {
   "cell_type": "code",
   "execution_count": null,
   "id": "f86d6c29-1c0f-4108-9a87-3b5ca4027af2",
   "metadata": {},
   "outputs": [],
   "source": [
    "clf = DecisionTreeClassifier(random_state=62)"
   ]
  },
  {
   "cell_type": "code",
   "execution_count": null,
   "id": "9b7bf847-9bf2-4ffa-9bea-f22ec6235b56",
   "metadata": {},
   "outputs": [],
   "source": [
    "clf.fit(test_x,test_y)"
   ]
  },
  {
   "cell_type": "code",
   "execution_count": null,
   "id": "62dfb11a-dcb5-4525-b64d-e66a6c68be9d",
   "metadata": {},
   "outputs": [],
   "source": [
    "y_pred=clf.predict(test_x)"
   ]
  },
  {
   "cell_type": "code",
   "execution_count": null,
   "id": "ec005753-32c0-48e0-a937-5eb718028db4",
   "metadata": {},
   "outputs": [],
   "source": [
    "clf.score(test_x,test_y)*100"
   ]
  },
  {
   "cell_type": "code",
   "execution_count": null,
   "id": "35bd9a62-ecd0-4526-95d0-7d3f17c35f99",
   "metadata": {},
   "outputs": [],
   "source": [
    "# plot_tree(clf)"
   ]
  },
  {
   "cell_type": "code",
   "execution_count": null,
   "id": "13329300-7284-4687-81a3-54d7dc988e4c",
   "metadata": {},
   "outputs": [],
   "source": [
    "test_y"
   ]
  },
  {
   "cell_type": "code",
   "execution_count": null,
   "id": "994f86ec-00c6-45af-b632-f50b3fc4e46a",
   "metadata": {},
   "outputs": [],
   "source": []
  },
  {
   "cell_type": "code",
   "execution_count": null,
   "id": "fe9cd6db-b3d2-4423-b41c-46f498b56199",
   "metadata": {},
   "outputs": [],
   "source": []
  }
 ],
 "metadata": {
  "kernelspec": {
   "display_name": "Python 3 (ipykernel)",
   "language": "python",
   "name": "python3"
  },
  "language_info": {
   "codemirror_mode": {
    "name": "ipython",
    "version": 3
   },
   "file_extension": ".py",
   "mimetype": "text/x-python",
   "name": "python",
   "nbconvert_exporter": "python",
   "pygments_lexer": "ipython3",
   "version": "3.12.2"
  }
 },
 "nbformat": 4,
 "nbformat_minor": 5
}
